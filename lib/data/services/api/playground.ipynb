{
 "cells": [
  {
   "cell_type": "code",
   "execution_count": 7,
   "metadata": {},
   "outputs": [],
   "source": [
    "from supabase import create_client, Client\n",
    "\n",
    "# Replace with your Supabase URL and API Key\n",
    "SUPABASE_URL = \"\"\n",
    "SUPABASE_API_KEY = \"\"\n",
    "\n",
    "\n"
   ]
  },
  {
   "cell_type": "code",
   "execution_count": 8,
   "metadata": {},
   "outputs": [
    {
     "name": "stdout",
     "output_type": "stream",
     "text": [
      "{'meditation_id': 1, 'meditation_url': 'gs://calmaddict-123.firebasestorage.app/BoxBreathingCourse/BoxBreathing_1.MP3', 'meditation_level': 1, 'course_name': 'box_breathing', 'level_in_course': 1}\n"
     ]
    }
   ],
   "source": [
    "supabase: Client = create_client(SUPABASE_URL, SUPABASE_API_KEY)\n",
    "\n",
    "\n",
    "# Fetch all rows from the MeditationsTable\n",
    "response = supabase.table(\"MeditationsTable\").select(\"*\").execute()\n",
    "\n",
    "# Print all rows\n",
    "for row in response.data:\n",
    "    print(row)\n",
    "\n"
   ]
  },
  {
   "cell_type": "code",
   "execution_count": 9,
   "metadata": {},
   "outputs": [
    {
     "data": {
      "text/plain": [
       "APIResponse[~_ReturnT](data=[{'meditation_id': 1, 'meditation_url': 'gs://calmaddict-123.firebasestorage.app/BoxBreathingCourse/BoxBreathing_1.MP3', 'meditation_level': 1, 'course_name': 'box_breathing', 'level_in_course': 1}], count=None)"
      ]
     },
     "execution_count": 9,
     "metadata": {},
     "output_type": "execute_result"
    }
   ],
   "source": [
    "response"
   ]
  }
 ],
 "metadata": {
  "kernelspec": {
   "display_name": "event_study_market_power",
   "language": "python",
   "name": "python3"
  },
  "language_info": {
   "codemirror_mode": {
    "name": "ipython",
    "version": 3
   },
   "file_extension": ".py",
   "mimetype": "text/x-python",
   "name": "python",
   "nbconvert_exporter": "python",
   "pygments_lexer": "ipython3",
   "version": "3.11.8"
  }
 },
 "nbformat": 4,
 "nbformat_minor": 2
}
